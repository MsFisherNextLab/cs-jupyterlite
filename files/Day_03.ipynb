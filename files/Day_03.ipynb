{
  "cells": [
    {
      "cell_type": "markdown",
      "metadata": {},
      "source": "# Using this notebook\nRun each cell (Shift+Enter). If today's lesson uses data, make sure `files/sample_data.csv` exists (it does on this site)."
    },
    {
      "cell_type": "code",
      "metadata": {},
      "execution_count": null,
      "outputs": [],
      "source": "\n# --- Run Me First (JupyterLite / Pyodide) ---\ntry:\n    import pandas as pd, matplotlib.pyplot as plt, statistics as stats, numpy as np\nexcept Exception as e:\n    print(\"If imports fail, wait a moment and re-run.\")\nimport os\nprint(\"Files in / files:\", os.listdir('/'))"
    },
    {
      "cell_type": "markdown",
      "metadata": {},
      "source": "# Day 3 — Loops (for)"
    },
    {
      "cell_type": "code",
      "metadata": {},
      "execution_count": null,
      "outputs": [],
      "source": "total=0\nfor i in range(10):\n    total+=i\n    print('i:',i,'total:',total)\nprint('Final total:',total)"
    }
  ],
  "metadata": {
    "kernelspec": {
      "display_name": "Python 3 (Pyodide)",
      "language": "python",
      "name": "python"
    },
    "language_info": {
      "name": "python",
      "version": "3.x"
    }
  },
  "nbformat": 4,
  "nbformat_minor": 5
}