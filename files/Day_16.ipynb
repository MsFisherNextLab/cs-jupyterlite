{
  "cells": [
    {
      "cell_type": "markdown",
      "metadata": {},
      "source": "# Using this notebook\nRun each cell (Shift+Enter). If today's lesson uses data, make sure `files/sample_data.csv` exists (it does on this site)."
    },
    {
      "cell_type": "code",
      "metadata": {},
      "execution_count": null,
      "outputs": [],
      "source": "\n# --- Run Me First (JupyterLite / Pyodide) ---\ntry:\n    import pandas as pd, matplotlib.pyplot as plt, statistics as stats, numpy as np\nexcept Exception as e:\n    print(\"If imports fail, wait a moment and re-run.\")\nimport os\nprint(\"Files in / files:\", os.listdir('/'))"
    },
    {
      "cell_type": "markdown",
      "metadata": {},
      "source": "# Day 16 — Presenting Findings"
    },
    {
      "cell_type": "code",
      "metadata": {},
      "execution_count": null,
      "outputs": [],
      "source": "import pandas as pd\ndf=pd.read_csv('files/sample_data.csv')\nprint('Summary statistics:\\n', df.describe(include='all'))\nprint('\\nKey finding: Add your sentence here about what changed over the week or which day was unusual.')"
    }
  ],
  "metadata": {
    "kernelspec": {
      "display_name": "Python 3 (Pyodide)",
      "language": "python",
      "name": "python"
    },
    "language_info": {
      "name": "python",
      "version": "3.x"
    }
  },
  "nbformat": 4,
  "nbformat_minor": 5
}