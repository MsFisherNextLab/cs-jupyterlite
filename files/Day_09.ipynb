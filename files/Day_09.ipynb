{
  "cells": [
    {
      "cell_type": "markdown",
      "metadata": {},
      "source": "# Using this notebook\nRun each cell (Shift+Enter). If today's lesson uses data, make sure `files/sample_data.csv` exists (it does on this site)."
    },
    {
      "cell_type": "code",
      "metadata": {},
      "execution_count": null,
      "outputs": [],
      "source": "\n# --- Run Me First (JupyterLite / Pyodide) ---\ntry:\n    import pandas as pd, matplotlib.pyplot as plt, statistics as stats, numpy as np\nexcept Exception as e:\n    print(\"If imports fail, wait a moment and re-run.\")\nimport os\nprint(\"Files in / files:\", os.listdir('/'))"
    },
    {
      "cell_type": "markdown",
      "metadata": {},
      "source": "# Day 9 — What is Data? Types of Data"
    },
    {
      "cell_type": "code",
      "metadata": {},
      "execution_count": null,
      "outputs": [],
      "source": "favorite_colors=['Blue','Green','Red']\nages=[10,12,11,13,12]\nprint('Colors:',favorite_colors)\nprint('Ages:',ages)\nprint('Number of colors:',len(favorite_colors))"
    }
  ],
  "metadata": {
    "kernelspec": {
      "display_name": "Python 3 (Pyodide)",
      "language": "python",
      "name": "python"
    },
    "language_info": {
      "name": "python",
      "version": "3.x"
    }
  },
  "nbformat": 4,
  "nbformat_minor": 5
}